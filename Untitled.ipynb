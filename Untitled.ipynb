{
 "cells": [
  {
   "cell_type": "code",
   "execution_count": 1,
   "id": "ebbc6107-3ffa-4e9a-806c-566761c196c7",
   "metadata": {},
   "outputs": [],
   "source": [
    "DATA_COLUMNS = [\"item_name\", \"item_price\",\n",
    "                \"item_url\", \"added_on\", \"updated_on\"]\n"
   ]
  },
  {
   "cell_type": "code",
   "execution_count": 2,
   "id": "9dc25cbb-1e1a-4e1d-a381-a50b1457a618",
   "metadata": {},
   "outputs": [],
   "source": [
    "import pandas as pd"
   ]
  },
  {
   "cell_type": "code",
   "execution_count": 31,
   "id": "db74c4c2-f4f8-4d44-98de-621cfa35ade0",
   "metadata": {},
   "outputs": [],
   "source": [
    "df = pd.DataFrame(columns=DATA_COLUMNS)"
   ]
  },
  {
   "cell_type": "code",
   "execution_count": 32,
   "id": "f7206130-12bf-4526-a78c-33998a12e8ce",
   "metadata": {},
   "outputs": [
    {
     "data": {
      "text/plain": [
       "[]"
      ]
     },
     "execution_count": 32,
     "metadata": {},
     "output_type": "execute_result"
    }
   ],
   "source": [
    "df[\"item_name\"].to_list()"
   ]
  },
  {
   "cell_type": "code",
   "execution_count": 26,
   "id": "fcf20879-022c-44ab-a1c7-f183b8b52d82",
   "metadata": {},
   "outputs": [],
   "source": [
    "items = [\n",
    "    {\"item_name\" : \"xx\",\n",
    "     \"item_price\" : 1,\n",
    "     \"item_url\": \"www.ex.com\"\n",
    "    },\n",
    "     {\"item_name\" : \"yy\",\n",
    "     \"item_price\" : 1,\n",
    "     \"item_url\": \"www.ex.com\"\n",
    "    },\n",
    "     {\"item_name\" : \"zz\",\n",
    "     \"item_price\" : 1,\n",
    "     \"item_url\": \"www.ex.com\"\n",
    "    }\n",
    "]"
   ]
  },
  {
   "cell_type": "code",
   "execution_count": 33,
   "id": "a5bb7798-979b-4984-bd5c-b4aaa411f927",
   "metadata": {},
   "outputs": [
    {
     "name": "stderr",
     "output_type": "stream",
     "text": [
      "C:\\Users\\kfrawee\\AppData\\Local\\Temp\\ipykernel_10788\\694000209.py:1: FutureWarning: The frame.append method is deprecated and will be removed from pandas in a future version. Use pandas.concat instead.\n",
      "  df = df.append(items, ignore_index=True)\n"
     ]
    }
   ],
   "source": [
    "df = df.append(items, ignore_index=True)"
   ]
  },
  {
   "cell_type": "code",
   "execution_count": 34,
   "id": "92921700-7ca1-4503-b963-962d2b1f813f",
   "metadata": {},
   "outputs": [
    {
     "data": {
      "text/html": [
       "<div>\n",
       "<style scoped>\n",
       "    .dataframe tbody tr th:only-of-type {\n",
       "        vertical-align: middle;\n",
       "    }\n",
       "\n",
       "    .dataframe tbody tr th {\n",
       "        vertical-align: top;\n",
       "    }\n",
       "\n",
       "    .dataframe thead th {\n",
       "        text-align: right;\n",
       "    }\n",
       "</style>\n",
       "<table border=\"1\" class=\"dataframe\">\n",
       "  <thead>\n",
       "    <tr style=\"text-align: right;\">\n",
       "      <th></th>\n",
       "      <th>item_name</th>\n",
       "      <th>item_price</th>\n",
       "      <th>item_url</th>\n",
       "      <th>added_on</th>\n",
       "      <th>updated_on</th>\n",
       "    </tr>\n",
       "  </thead>\n",
       "  <tbody>\n",
       "    <tr>\n",
       "      <th>0</th>\n",
       "      <td>xx</td>\n",
       "      <td>1</td>\n",
       "      <td>www.ex.com</td>\n",
       "      <td>NaN</td>\n",
       "      <td>NaN</td>\n",
       "    </tr>\n",
       "    <tr>\n",
       "      <th>1</th>\n",
       "      <td>yy</td>\n",
       "      <td>1</td>\n",
       "      <td>www.ex.com</td>\n",
       "      <td>NaN</td>\n",
       "      <td>NaN</td>\n",
       "    </tr>\n",
       "    <tr>\n",
       "      <th>2</th>\n",
       "      <td>zz</td>\n",
       "      <td>1</td>\n",
       "      <td>www.ex.com</td>\n",
       "      <td>NaN</td>\n",
       "      <td>NaN</td>\n",
       "    </tr>\n",
       "  </tbody>\n",
       "</table>\n",
       "</div>"
      ],
      "text/plain": [
       "  item_name item_price    item_url added_on updated_on\n",
       "0        xx          1  www.ex.com      NaN        NaN\n",
       "1        yy          1  www.ex.com      NaN        NaN\n",
       "2        zz          1  www.ex.com      NaN        NaN"
      ]
     },
     "execution_count": 34,
     "metadata": {},
     "output_type": "execute_result"
    }
   ],
   "source": [
    "df"
   ]
  },
  {
   "cell_type": "code",
   "execution_count": 61,
   "id": "fb12d702-8025-4c95-8400-bebe0411ef15",
   "metadata": {},
   "outputs": [
    {
     "name": "stdout",
     "output_type": "stream",
     "text": [
      "0.0\n"
     ]
    }
   ],
   "source": [
    "try:\n",
    "    df.loc[df['item_name'] == 'xcx', ][].values[0]\n",
    "except IndexError:\n",
    "    print(0.0)"
   ]
  },
  {
   "cell_type": "code",
   "execution_count": 75,
   "id": "f8da1e4a-261e-4f80-a43e-077d1bf8a019",
   "metadata": {},
   "outputs": [],
   "source": [
    "from datetime import datetime, timezone"
   ]
  },
  {
   "cell_type": "code",
   "execution_count": 76,
   "id": "dc00cd5a-a735-4c86-af76-5d40240c82c6",
   "metadata": {},
   "outputs": [],
   "source": [
    "df.loc[df['item_name'] == 'xx', ['item_price', 'updated_on']] = [11,  datetime.now(tz=timezone.utc)]"
   ]
  },
  {
   "cell_type": "code",
   "execution_count": 77,
   "id": "eeb4dedd-f702-4b88-b456-3b40d7f7bc32",
   "metadata": {},
   "outputs": [
    {
     "data": {
      "text/html": [
       "<div>\n",
       "<style scoped>\n",
       "    .dataframe tbody tr th:only-of-type {\n",
       "        vertical-align: middle;\n",
       "    }\n",
       "\n",
       "    .dataframe tbody tr th {\n",
       "        vertical-align: top;\n",
       "    }\n",
       "\n",
       "    .dataframe thead th {\n",
       "        text-align: right;\n",
       "    }\n",
       "</style>\n",
       "<table border=\"1\" class=\"dataframe\">\n",
       "  <thead>\n",
       "    <tr style=\"text-align: right;\">\n",
       "      <th></th>\n",
       "      <th>item_name</th>\n",
       "      <th>item_price</th>\n",
       "      <th>item_url</th>\n",
       "      <th>added_on</th>\n",
       "      <th>updated_on</th>\n",
       "    </tr>\n",
       "  </thead>\n",
       "  <tbody>\n",
       "    <tr>\n",
       "      <th>0</th>\n",
       "      <td>xx</td>\n",
       "      <td>11</td>\n",
       "      <td>www.ex.com</td>\n",
       "      <td>NaN</td>\n",
       "      <td>2022-11-01 10:12:17.072341+00:00</td>\n",
       "    </tr>\n",
       "    <tr>\n",
       "      <th>1</th>\n",
       "      <td>yy</td>\n",
       "      <td>1</td>\n",
       "      <td>www.ex.com</td>\n",
       "      <td>NaN</td>\n",
       "      <td>NaN</td>\n",
       "    </tr>\n",
       "    <tr>\n",
       "      <th>2</th>\n",
       "      <td>zz</td>\n",
       "      <td>1</td>\n",
       "      <td>www.ex.com</td>\n",
       "      <td>NaN</td>\n",
       "      <td>NaN</td>\n",
       "    </tr>\n",
       "  </tbody>\n",
       "</table>\n",
       "</div>"
      ],
      "text/plain": [
       "  item_name item_price    item_url added_on                        updated_on\n",
       "0        xx         11  www.ex.com      NaN  2022-11-01 10:12:17.072341+00:00\n",
       "1        yy          1  www.ex.com      NaN                               NaN\n",
       "2        zz          1  www.ex.com      NaN                               NaN"
      ]
     },
     "execution_count": 77,
     "metadata": {},
     "output_type": "execute_result"
    }
   ],
   "source": [
    "df"
   ]
  },
  {
   "cell_type": "code",
   "execution_count": null,
   "id": "64df8bf7-73ab-4d7f-9184-49a3f3c4c364",
   "metadata": {},
   "outputs": [],
   "source": []
  }
 ],
 "metadata": {
  "kernelspec": {
   "display_name": "Python 3 (ipykernel)",
   "language": "python",
   "name": "python3"
  },
  "language_info": {
   "codemirror_mode": {
    "name": "ipython",
    "version": 3
   },
   "file_extension": ".py",
   "mimetype": "text/x-python",
   "name": "python",
   "nbconvert_exporter": "python",
   "pygments_lexer": "ipython3",
   "version": "3.9.12"
  }
 },
 "nbformat": 4,
 "nbformat_minor": 5
}
